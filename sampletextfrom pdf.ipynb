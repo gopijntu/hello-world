{
  "nbformat": 4,
  "nbformat_minor": 0,
  "metadata": {
    "colab": {
      "provenance": [],
      "authorship_tag": "ABX9TyOuUW6ABOgQWIGNrkgR7gCX",
      "include_colab_link": true
    },
    "kernelspec": {
      "name": "python3",
      "display_name": "Python 3"
    },
    "language_info": {
      "name": "python"
    }
  },
  "cells": [
    {
      "cell_type": "markdown",
      "metadata": {
        "id": "view-in-github",
        "colab_type": "text"
      },
      "source": [
        "<a href=\"https://colab.research.google.com/github/gopijntu/hello-world/blob/master/sampletextfrom%20pdf.ipynb\" target=\"_parent\"><img src=\"https://colab.research.google.com/assets/colab-badge.svg\" alt=\"Open In Colab\"/></a>"
      ]
    },
    {
      "cell_type": "code",
      "execution_count": 5,
      "metadata": {
        "colab": {
          "base_uri": "https://localhost:8080/"
        },
        "id": "MgsQcjmWCnWs",
        "outputId": "78fe48ee-b4c1-47d9-c47b-42ef2379e8ff"
      },
      "outputs": [
        {
          "output_type": "stream",
          "name": "stderr",
          "text": [
            "WARNING:PyPDF2.generic._data_structures:Multiple definitions in dictionary at byte 0x2bae1 for key /PageMode\n"
          ]
        },
        {
          "output_type": "stream",
          "name": "stdout",
          "text": [
            "Extracted text:\n",
            "1\"01200125\n",
            "OIL PURIFICATION SYSTEM0102LT0101LGMOP\n",
            "01 01031/2\" 1/2\" 1/2\" 1/2\" AIR BLOWER\n",
            "CHARGE CAPACITY:17829 LTS0104RO 06OIL TANK\n",
            "225      60 ATM\n",
            "3\"-LO-05-0203-23A2\n",
            "0101\n",
            "H05-G-0203A/B\n",
            "6\"-LO-05-0224-23A2\n"
          ]
        }
      ],
      "source": [
        "import PyPDF2\n",
        "\n",
        "def extract_text_with_tg(pdf_path):\n",
        "  \"\"\"\n",
        "  Extracts text containing \"TG\" and the following number from a PDF, even if the number is on a separate line.\n",
        "\n",
        "  Args:\n",
        "      pdf_path: Path to the PDF file.\n",
        "\n",
        "  Returns:\n",
        "      A list of extracted text snippets.\n",
        "  \"\"\"\n",
        "  extracted_text = []\n",
        "  with open(pdf_path, 'rb') as pdf_file:  # Corrected indentation and added colon\n",
        "    pdf_reader = PyPDF2.PdfReader(pdf_file)\n",
        "    for page_num in range(len(pdf_reader.pages)):\n",
        "      page = pdf_reader.pages[page_num]\n",
        "      page_text = page.extract_text()\n",
        "      lines = page_text.splitlines()\n",
        "      tg_found = False\n",
        "      for line in lines:\n",
        "        if \"TG\" in line:\n",
        "          tg_found = True\n",
        "        elif tg_found and line.strip():\n",
        "          # Extract the number from the next line if \"TG\" was found in the previous line\n",
        "          extracted_text.append(line.strip())\n",
        "          tg_found = False\n",
        "  return extracted_text\n",
        "\n",
        "if __name__ == \"__main__\":\n",
        "  pdf_path = \"/content/SAIL Bokaro-TB5-LO-R01.pdf\"  # Corrected path\n",
        "  extracted_data = extract_text_with_tg(pdf_path)\n",
        "  if extracted_data:\n",
        "    print(\"Extracted text:\")\n",
        "    for text in extracted_data:\n",
        "      print(text)\n",
        "  else:\n",
        "    print(\"No text containing 'TG' found in the PDF.\")\n"
      ]
    },
    {
      "cell_type": "code",
      "source": [
        "# prompt: generate code to extract text from pdf,search for pdi and number  and print\n",
        "\n",
        "import PyPDF2\n",
        "\n",
        "def extract_text_with_pdi(pdf_path):\n",
        "  \"\"\"\n",
        "  Extracts text containing \"PDI\" and the following number from a PDF, even if the number is on a separate line.\n",
        "\n",
        "  Args:\n",
        "      pdf_path: Path to the PDF file.\n",
        "\n",
        "  Returns:\n",
        "      A list of extracted text snippets.\n",
        "  \"\"\"\n",
        "  extracted_text = []\n",
        "  with open(pdf_path, 'rb') as pdf_file:\n",
        "    pdf_reader = PyPDF2.PdfReader(pdf_file)\n",
        "    for page_num in range(len(pdf_reader.pages)):\n",
        "      page = pdf_reader.pages[page_num]\n",
        "      page_text = page.extract_text()\n",
        "      lines = page_text.splitlines()\n",
        "      pdi_found = False\n",
        "      for line in lines:\n",
        "        if \"PDI\" in line:\n",
        "          pdi_found = True\n",
        "        elif pdi_found and line.strip():\n",
        "          # Extract the number from the next line if \"PDI\" was found in the previous line\n",
        "          extracted_text.append(line.strip())\n",
        "          pdi_found = False\n",
        "  return extracted_text\n",
        "\n",
        "if __name__ == \"__main__\":\n",
        "  pdf_path = \"/content/SAIL Bokaro-TB5-LO-R01.pdf\"\n",
        "  extracted_data = extract_text_with_pdi(pdf_path)\n",
        "  if extracted_data:\n",
        "    print(\"Extracted text:\")\n",
        "    for text in extracted_data:\n",
        "      print(text)\n",
        "  else:\n",
        "    print(\"No text containing 'PDI' found in the PDF.\")\n"
      ],
      "metadata": {
        "colab": {
          "base_uri": "https://localhost:8080/"
        },
        "id": "1PrqnhDuD02t",
        "outputId": "60242b89-8a3e-4f9b-9560-ed4b3fc72e86"
      },
      "execution_count": 10,
      "outputs": [
        {
          "output_type": "stream",
          "name": "stderr",
          "text": [
            "WARNING:PyPDF2.generic._data_structures:Multiple definitions in dictionary at byte 0x19523 for key /PageMode\n"
          ]
        },
        {
          "output_type": "stream",
          "name": "stdout",
          "text": [
            "Extracted text:\n",
            "0124 DETAIL-A\n"
          ]
        }
      ]
    }
  ]
}