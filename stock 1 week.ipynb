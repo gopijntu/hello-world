{
  "nbformat": 4,
  "nbformat_minor": 0,
  "metadata": {
    "colab": {
      "name": "Copy of Copy of Welcome To Colaboratory",
      "version": "0.3.2",
      "provenance": [],
      "collapsed_sections": [],
      "toc_visible": true,
      "include_colab_link": true
    },
    "kernelspec": {
      "name": "python3",
      "display_name": "Python 3"
    },
    "accelerator": "GPU"
  },
  "cells": [
    {
      "cell_type": "markdown",
      "metadata": {
        "id": "view-in-github",
        "colab_type": "text"
      },
      "source": [
        "<a href=\"https://colab.research.google.com/github/gopijntu/hello-world/blob/master/stock%201%20week.ipynb\" target=\"_parent\"><img src=\"https://colab.research.google.com/assets/colab-badge.svg\" alt=\"Open In Colab\"/></a>"
      ]
    },
    {
      "cell_type": "markdown",
      "metadata": {
        "colab_type": "text",
        "id": "5fCEDCU_qrC0"
      },
      "source": [
        "<p><img alt=\"Colaboratory logo\" height=\"45px\" src=\"https://colab.research.google.com/img/colab_favicon.ico\" align=\"left\" hspace=\"10px\" vspace=\"0px\"></p>\n",
        "\n",
        "<h1>Welcome to Colaboratory!</h1>\n",
        "\n",
        "\n",
        "Colaboratory is a free Jupyter notebook environment that requires no setup and runs entirely in the cloud.\n",
        "\n",
        "With Colaboratory you can write and execute code, save and share your analyses, and access powerful computing resources, all for free from your browser."
      ]
    },
    {
      "cell_type": "code",
      "metadata": {
        "colab_type": "code",
        "id": "xitplqMNk_Hc",
        "outputId": "ed4f60d2-878d-4056-c438-352dac39a112",
        "colab": {
          "height": 420
        }
      },
      "source": [
        "#@title Introducing Colaboratory { display-mode: \"form\" }\n",
        "#@markdown This 3-minute video gives an overview of the key features of Colaboratory:\n",
        "from IPython.display import YouTubeVideo\n",
        "YouTubeVideo('inN8seMm7UI', width=600, height=400)"
      ],
      "execution_count": 0,
      "outputs": [
        {
          "output_type": "execute_result",
          "data": {
            "text/html": [
              "\n",
              "        <iframe\n",
              "            width=\"600\"\n",
              "            height=\"400\"\n",
              "            src=\"https://www.youtube.com/embed/inN8seMm7UI\"\n",
              "            frameborder=\"0\"\n",
              "            allowfullscreen\n",
              "        ></iframe>\n",
              "        "
            ],
            "text/plain": [
              "<IPython.lib.display.YouTubeVideo at 0x7f956e9dda50>"
            ]
          },
          "metadata": {
            "tags": []
          },
          "execution_count": 0
        }
      ]
    },
    {
      "cell_type": "markdown",
      "metadata": {
        "colab_type": "text",
        "id": "GJBs_flRovLc"
      },
      "source": [
        "## Getting Started\n",
        "\n",
        "The document you are reading is a  [Jupyter notebook](https://jupyter.org/), hosted in Colaboratory. It is not a static page, but an interactive environment that lets you write and execute code in Python and other languages.\n",
        "\n",
        "For example, here is a **code cell** with a short Python script that computes a value, stores it in a variable, and prints the result:"
      ]
    },
    {
      "cell_type": "code",
      "metadata": {
        "colab_type": "code",
        "id": "gJr_9dXGpJ05",
        "outputId": "5626194c-e802-4293-942d-2908885c3c1f",
        "colab": {
          "height": 35
        }
      },
      "source": [
        "seconds_in_a_day = 24 * 60 * 60\n",
        "seconds_in_a_day"
      ],
      "execution_count": 0,
      "outputs": [
        {
          "output_type": "execute_result",
          "data": {
            "text/plain": [
              "86400"
            ]
          },
          "metadata": {
            "tags": []
          },
          "execution_count": 0
        }
      ]
    },
    {
      "cell_type": "markdown",
      "metadata": {
        "colab_type": "text",
        "id": "2fhs6GZ4qFMx"
      },
      "source": [
        "To execute the code in the above cell, select it with a click and then either press the play button to the left of the code, or use the keyboard shortcut \"Command/Ctrl+Enter\".\n",
        "\n",
        "All cells modify the same global state, so variables that you define by executing a cell can be used in other cells:"
      ]
    },
    {
      "cell_type": "code",
      "metadata": {
        "colab_type": "code",
        "id": "-gE-Ez1qtyIA",
        "outputId": "8d2e4259-4682-4e19-b683-7b9087f28820",
        "colab": {
          "height": 35
        }
      },
      "source": [
        "seconds_in_a_week = 7 * seconds_in_a_day\n",
        "seconds_in_a_week"
      ],
      "execution_count": 0,
      "outputs": [
        {
          "output_type": "execute_result",
          "data": {
            "text/plain": [
              "604800"
            ]
          },
          "metadata": {
            "tags": []
          },
          "execution_count": 0
        }
      ]
    },
    {
      "cell_type": "markdown",
      "metadata": {
        "colab_type": "text",
        "id": "lSrWNr3MuFUS"
      },
      "source": [
        "For more information about working with Colaboratory notebooks, see [Overview of Colaboratory](/notebooks/basic_features_overview.ipynb).\n"
      ]
    },
    {
      "cell_type": "markdown",
      "metadata": {
        "colab_type": "text",
        "id": "-Rh3-Vt9Nev9"
      },
      "source": [
        "## More Resources\n",
        "\n",
        "Learn how to make the most of Python, Jupyter, Colaboratory, and related tools with these resources:\n",
        "\n",
        "### Working with Notebooks in Colaboratory\n",
        "- [Overview of Colaboratory](/notebooks/basic_features_overview.ipynb)\n",
        "- [Guide to Markdown](/notebooks/markdown_guide.ipynb)\n",
        "- [Importing libraries and installing dependencies](/notebooks/snippets/importing_libraries.ipynb)\n",
        "- [Saving and loading notebooks in GitHub](https://colab.research.google.com/github/googlecolab/colabtools/blob/master/notebooks/colab-github-demo.ipynb)\n",
        "- [Interactive forms](/notebooks/forms.ipynb)\n",
        "- [Interactive widgets](/notebooks/widgets.ipynb)\n",
        "\n",
        "### Working with Data\n",
        "- [Loading data: Drive, Sheets, and Google Cloud Storage](/notebooks/io.ipynb) \n",
        "- [Charts: visualizing data](/notebooks/charts.ipynb)\n",
        "- [Getting started with BigQuery](/notebooks/bigquery.ipynb)\n",
        "\n",
        "### Machine Learning Crash Course\n",
        "These are a few of the notebooks from Google's online Machine Learning course. See the [full course website](https://developers.google.com/machine-learning/crash-course/) for more.\n",
        "- [Intro to Pandas](/notebooks/mlcc/intro_to_pandas.ipynb)\n",
        "- [Tensorflow concepts](/notebooks/mlcc/tensorflow_programming_concepts.ipynb)\n",
        "- [First steps with TensorFlow](/notebooks/mlcc/first_steps_with_tensor_flow.ipynb)\n",
        "- [Intro to neural nets](/notebooks/mlcc/intro_to_neural_nets.ipynb)\n",
        "- [Intro to sparse data and embeddings](/notebooks/mlcc/intro_to_sparse_data_and_embeddings.ipynb)\n",
        "\n",
        "### Using Accelerated Hardware\n",
        "- [TensorFlow with GPUs](/notebooks/gpu.ipynb)\n",
        "- [TensorFlow with TPUs](/notebooks/tpu.ipynb)"
      ]
    },
    {
      "cell_type": "markdown",
      "metadata": {
        "colab_type": "text",
        "id": "P-H6Lw1vyNNd"
      },
      "source": [
        "## Machine Learning Examples: Seedbank\n",
        "\n",
        "To see end-to-end examples of the interactive machine learning analyses that Colaboratory makes possible, check out the [Seedbank](https://research.google.com/seedbank/) project.\n",
        "\n",
        "A few featured examples:\n",
        "\n",
        "- [Neural Style Transfer](https://research.google.com/seedbank/seed/neural_style_transfer_with_tfkeras): Use deep learning to transfer style between images.\n",
        "- [EZ NSynth](https://research.google.com/seedbank/seed/ez_nsynth): Synthesize audio with WaveNet auto-encoders.\n",
        "- [Fashion MNIST with Keras and TPUs](https://research.google.com/seedbank/seed/fashion_mnist_with_keras_and_tpus): Classify fashion-related images with deep learning.\n",
        "- [DeepDream](https://research.google.com/seedbank/seed/deepdream): Produce DeepDream images from your own photos.\n",
        "- [Convolutional VAE](https://research.google.com/seedbank/seed/convolutional_vae): Create a generative model of handwritten digits."
      ]
    },
    {
      "cell_type": "code",
      "metadata": {
        "id": "6QIb4TACsXsZ",
        "colab_type": "code",
        "outputId": "162de333-4f2b-400f-c88e-ce6a81d079fe",
        "colab": {
          "base_uri": "https://localhost:8080/",
          "height": 34
        }
      },
      "source": [
        "\n",
        "import numpy as np # linear algebra\n",
        "import pandas as pd # data processing, CSV file I/O (e.g. pd.read_csv)\n",
        "from keras.models import Sequential\n",
        "from keras.layers import LSTM,Dense\n",
        "from sklearn.preprocessing import MinMaxScaler\n",
        "import matplotlib.pyplot as plt\n",
        "from IPython.display import display, HTML"
      ],
      "execution_count": 0,
      "outputs": [
        {
          "output_type": "stream",
          "text": [
            "Using TensorFlow backend.\n"
          ],
          "name": "stderr"
        }
      ]
    },
    {
      "cell_type": "code",
      "metadata": {
        "id": "b8QH5nPesj4B",
        "colab_type": "code",
        "outputId": "2ec34da0-9ba9-4f6b-fade-4296d91f148f",
        "colab": {
          "resources": {
            "http://localhost:8080/nbextensions/google.colab/files.js": {
              "data": "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",
              "ok": true,
              "headers": [
                [
                  "content-type",
                  "application/javascript"
                ]
              ],
              "status": 200,
              "status_text": ""
            }
          },
          "base_uri": "https://localhost:8080/",
          "height": 74
        }
      },
      "source": [
        "from google.colab import files\n",
        "uploaded = files.upload()\n",
        "data = pd.read_csv('all_stocks_5yr.csv')\n",
        "cl = data[data['Name']=='MNST'].close"
      ],
      "execution_count": 0,
      "outputs": [
        {
          "output_type": "display_data",
          "data": {
            "text/html": [
              "\n",
              "     <input type=\"file\" id=\"files-0ae44828-f752-43b0-8b55-b7bf82889b19\" name=\"files[]\" multiple disabled />\n",
              "     <output id=\"result-0ae44828-f752-43b0-8b55-b7bf82889b19\">\n",
              "      Upload widget is only available when the cell has been executed in the\n",
              "      current browser session. Please rerun this cell to enable.\n",
              "      </output>\n",
              "      <script src=\"/nbextensions/google.colab/files.js\"></script> "
            ],
            "text/plain": [
              "<IPython.core.display.HTML object>"
            ]
          },
          "metadata": {
            "tags": []
          }
        },
        {
          "output_type": "stream",
          "text": [
            "Saving all_stocks_5yr.csv to all_stocks_5yr.csv\n"
          ],
          "name": "stdout"
        }
      ]
    },
    {
      "cell_type": "code",
      "metadata": {
        "id": "PD1fiLdLvKv_",
        "colab_type": "code",
        "outputId": "254dcd51-4a58-48fc-caac-d216fa9f1469",
        "colab": {
          "base_uri": "https://localhost:8080/",
          "height": 136
        }
      },
      "source": [
        "cv = cl.values\n",
        "scl = MinMaxScaler()\n",
        "#Scale the data\n",
        "#cl = cl.reshape(cl.shape[0],1)\n",
        "cv = cv.reshape(cv.shape[0],1)\n",
        "cv = scl.fit_transform(cv)\n",
        "cv"
      ],
      "execution_count": 0,
      "outputs": [
        {
          "output_type": "execute_result",
          "data": {
            "text/plain": [
              "array([[0.00404759],\n",
              "       [0.00784852],\n",
              "       [0.00355052],\n",
              "       ...,\n",
              "       [0.90544407],\n",
              "       [0.91217137],\n",
              "       [0.91852493]])"
            ]
          },
          "metadata": {
            "tags": []
          },
          "execution_count": 4
        }
      ]
    },
    {
      "cell_type": "code",
      "metadata": {
        "id": "qXDGhdFPvVEH",
        "colab_type": "code",
        "outputId": "ae729293-d549-4862-f672-2c1accb59796",
        "colab": {
          "base_uri": "https://localhost:8080/",
          "height": 85
        }
      },
      "source": [
        "#Create a function to process the data into 7 day look back slices\n",
        "#codes is edited here to include the argument gap, i.e. we leave a gap from 7 days window presented to the lstm\n",
        "#for the target value used for training and prediction\n",
        "def processData(data,lb,gap):\n",
        "    X,Y = [],[]\n",
        "    for i in range(len(data)-lb-gap-1):\n",
        "        X.append(data[i:(i+lb),0])\n",
        "        Y.append(data[(i+lb+gap),0])\n",
        "    return np.array(X),np.array(Y)\n",
        "X,y = processData(cv,7,7)\n",
        "X_train,X_test = X[:int(X.shape[0]*0.80)],X[int(X.shape[0]*0.80):]\n",
        "y_train,y_test = y[:int(y.shape[0]*0.80)],y[int(y.shape[0]*0.80):]\n",
        "print(X_train.shape[0])\n",
        "print(X_test.shape[0])\n",
        "print(y_train.shape[0])\n",
        "print(y_test.shape[0])"
      ],
      "execution_count": 0,
      "outputs": [
        {
          "output_type": "stream",
          "text": [
            "995\n",
            "249\n",
            "995\n",
            "249\n"
          ],
          "name": "stdout"
        }
      ]
    },
    {
      "cell_type": "code",
      "metadata": {
        "id": "WdgKH43Yvbt1",
        "colab_type": "code",
        "outputId": "ac7b49a9-9253-40fc-ec2b-fc68b1ed34e9",
        "colab": {
          "base_uri": "https://localhost:8080/",
          "height": 1000
        }
      },
      "source": [
        "#Build the model\n",
        "model = Sequential()\n",
        "model.add(LSTM(256,input_shape=(7,1)))\n",
        "model.add(Dense(1))\n",
        "model.compile(optimizer='adam',loss='mse')\n",
        "#Reshape data for (Sample,Timestep,Features) \n",
        "X_train = X_train.reshape((X_train.shape[0],X_train.shape[1],1))\n",
        "X_test = X_test.reshape((X_test.shape[0],X_test.shape[1],1))\n",
        "#Fit model with history to check for overfitting\n",
        "history = model.fit(X_train,y_train,epochs=300,validation_data=(X_test,y_test),shuffle=False)"
      ],
      "execution_count": 0,
      "outputs": [
        {
          "output_type": "stream",
          "text": [
            "WARNING: Logging before flag parsing goes to stderr.\n",
            "W0906 13:22:44.040743 139642964227968 deprecation_wrapper.py:119] From /usr/local/lib/python3.6/dist-packages/keras/backend/tensorflow_backend.py:66: The name tf.get_default_graph is deprecated. Please use tf.compat.v1.get_default_graph instead.\n",
            "\n",
            "W0906 13:22:44.095326 139642964227968 deprecation_wrapper.py:119] From /usr/local/lib/python3.6/dist-packages/keras/backend/tensorflow_backend.py:541: The name tf.placeholder is deprecated. Please use tf.compat.v1.placeholder instead.\n",
            "\n",
            "W0906 13:22:44.105719 139642964227968 deprecation_wrapper.py:119] From /usr/local/lib/python3.6/dist-packages/keras/backend/tensorflow_backend.py:4432: The name tf.random_uniform is deprecated. Please use tf.random.uniform instead.\n",
            "\n",
            "W0906 13:22:44.505749 139642964227968 deprecation_wrapper.py:119] From /usr/local/lib/python3.6/dist-packages/keras/optimizers.py:793: The name tf.train.Optimizer is deprecated. Please use tf.compat.v1.train.Optimizer instead.\n",
            "\n",
            "W0906 13:22:44.750237 139642964227968 deprecation.py:323] From /usr/local/lib/python3.6/dist-packages/tensorflow/python/ops/math_grad.py:1250: add_dispatch_support.<locals>.wrapper (from tensorflow.python.ops.array_ops) is deprecated and will be removed in a future version.\n",
            "Instructions for updating:\n",
            "Use tf.where in 2.0, which has the same broadcast rule as np.where\n",
            "W0906 13:22:45.269550 139642964227968 deprecation_wrapper.py:119] From /usr/local/lib/python3.6/dist-packages/keras/backend/tensorflow_backend.py:1033: The name tf.assign_add is deprecated. Please use tf.compat.v1.assign_add instead.\n",
            "\n",
            "W0906 13:22:45.361125 139642964227968 deprecation_wrapper.py:119] From /usr/local/lib/python3.6/dist-packages/keras/backend/tensorflow_backend.py:1020: The name tf.assign is deprecated. Please use tf.compat.v1.assign instead.\n",
            "\n"
          ],
          "name": "stderr"
        },
        {
          "output_type": "stream",
          "text": [
            "Train on 995 samples, validate on 249 samples\n",
            "Epoch 1/300\n",
            "995/995 [==============================] - 6s 6ms/step - loss: 0.0033 - val_loss: 0.0230\n",
            "Epoch 2/300\n",
            "995/995 [==============================] - 1s 687us/step - loss: 0.0121 - val_loss: 0.0048\n",
            "Epoch 3/300\n",
            "995/995 [==============================] - 1s 699us/step - loss: 0.0095 - val_loss: 0.0119\n",
            "Epoch 4/300\n",
            "995/995 [==============================] - 1s 680us/step - loss: 0.0029 - val_loss: 0.0066\n",
            "Epoch 5/300\n",
            "995/995 [==============================] - 1s 689us/step - loss: 0.0022 - val_loss: 0.0045\n",
            "Epoch 6/300\n",
            "995/995 [==============================] - 1s 679us/step - loss: 0.0019 - val_loss: 0.0034\n",
            "Epoch 7/300\n",
            "995/995 [==============================] - 1s 670us/step - loss: 0.0018 - val_loss: 0.0032\n",
            "Epoch 8/300\n",
            "995/995 [==============================] - 1s 675us/step - loss: 0.0018 - val_loss: 0.0032\n",
            "Epoch 9/300\n",
            "995/995 [==============================] - 1s 693us/step - loss: 0.0019 - val_loss: 0.0033\n",
            "Epoch 10/300\n",
            "995/995 [==============================] - 1s 676us/step - loss: 0.0019 - val_loss: 0.0033\n",
            "Epoch 11/300\n",
            "995/995 [==============================] - 1s 671us/step - loss: 0.0019 - val_loss: 0.0035\n",
            "Epoch 12/300\n",
            "995/995 [==============================] - 1s 669us/step - loss: 0.0020 - val_loss: 0.0036\n",
            "Epoch 13/300\n",
            "995/995 [==============================] - 1s 677us/step - loss: 0.0020 - val_loss: 0.0038\n",
            "Epoch 14/300\n",
            "995/995 [==============================] - 1s 691us/step - loss: 0.0020 - val_loss: 0.0040\n",
            "Epoch 15/300\n",
            "995/995 [==============================] - 1s 680us/step - loss: 0.0020 - val_loss: 0.0042\n",
            "Epoch 16/300\n",
            "995/995 [==============================] - 1s 690us/step - loss: 0.0020 - val_loss: 0.0044\n",
            "Epoch 17/300\n",
            "995/995 [==============================] - 1s 687us/step - loss: 0.0020 - val_loss: 0.0047\n",
            "Epoch 18/300\n",
            "995/995 [==============================] - 1s 648us/step - loss: 0.0019 - val_loss: 0.0050\n",
            "Epoch 19/300\n",
            "995/995 [==============================] - 1s 672us/step - loss: 0.0019 - val_loss: 0.0052\n",
            "Epoch 20/300\n",
            "995/995 [==============================] - 1s 685us/step - loss: 0.0019 - val_loss: 0.0055\n",
            "Epoch 21/300\n",
            "995/995 [==============================] - 1s 662us/step - loss: 0.0019 - val_loss: 0.0058\n",
            "Epoch 22/300\n",
            "995/995 [==============================] - 1s 689us/step - loss: 0.0019 - val_loss: 0.0062\n",
            "Epoch 23/300\n",
            "995/995 [==============================] - 1s 682us/step - loss: 0.0019 - val_loss: 0.0065\n",
            "Epoch 24/300\n",
            "995/995 [==============================] - 1s 683us/step - loss: 0.0019 - val_loss: 0.0069\n",
            "Epoch 25/300\n",
            "995/995 [==============================] - 1s 676us/step - loss: 0.0019 - val_loss: 0.0072\n",
            "Epoch 26/300\n",
            "995/995 [==============================] - 1s 693us/step - loss: 0.0019 - val_loss: 0.0076\n",
            "Epoch 27/300\n",
            "995/995 [==============================] - 1s 681us/step - loss: 0.0019 - val_loss: 0.0081\n",
            "Epoch 28/300\n",
            "995/995 [==============================] - 1s 706us/step - loss: 0.0019 - val_loss: 0.0085\n",
            "Epoch 29/300\n",
            "995/995 [==============================] - 1s 687us/step - loss: 0.0019 - val_loss: 0.0090\n",
            "Epoch 30/300\n",
            "995/995 [==============================] - 1s 675us/step - loss: 0.0020 - val_loss: 0.0096\n",
            "Epoch 31/300\n",
            "995/995 [==============================] - 1s 678us/step - loss: 0.0020 - val_loss: 0.0102\n",
            "Epoch 32/300\n",
            "995/995 [==============================] - 1s 680us/step - loss: 0.0020 - val_loss: 0.0109\n",
            "Epoch 33/300\n",
            "995/995 [==============================] - 1s 680us/step - loss: 0.0021 - val_loss: 0.0116\n",
            "Epoch 34/300\n",
            "995/995 [==============================] - 1s 694us/step - loss: 0.0021 - val_loss: 0.0126\n",
            "Epoch 35/300\n",
            "995/995 [==============================] - 1s 687us/step - loss: 0.0022 - val_loss: 0.0137\n",
            "Epoch 36/300\n",
            "995/995 [==============================] - 1s 683us/step - loss: 0.0024 - val_loss: 0.0149\n",
            "Epoch 37/300\n",
            "995/995 [==============================] - 1s 684us/step - loss: 0.0026 - val_loss: 0.0165\n",
            "Epoch 38/300\n",
            "995/995 [==============================] - 1s 677us/step - loss: 0.0028 - val_loss: 0.0193\n",
            "Epoch 39/300\n",
            "995/995 [==============================] - 1s 702us/step - loss: 0.0026 - val_loss: 0.0127\n",
            "Epoch 40/300\n",
            "995/995 [==============================] - 1s 689us/step - loss: 0.0028 - val_loss: 0.0154\n",
            "Epoch 41/300\n",
            "995/995 [==============================] - 1s 684us/step - loss: 0.0042 - val_loss: 0.0159\n",
            "Epoch 42/300\n",
            "995/995 [==============================] - 1s 674us/step - loss: 0.0029 - val_loss: 0.0136\n",
            "Epoch 43/300\n",
            "995/995 [==============================] - 1s 689us/step - loss: 0.0046 - val_loss: 0.0170\n",
            "Epoch 44/300\n",
            "995/995 [==============================] - 1s 686us/step - loss: 0.0024 - val_loss: 0.0166\n",
            "Epoch 45/300\n",
            "995/995 [==============================] - 1s 681us/step - loss: 0.0030 - val_loss: 0.0158\n",
            "Epoch 46/300\n",
            "995/995 [==============================] - 1s 690us/step - loss: 0.0048 - val_loss: 0.0201\n",
            "Epoch 47/300\n",
            "995/995 [==============================] - 1s 696us/step - loss: 0.0033 - val_loss: 0.0182\n",
            "Epoch 48/300\n",
            "995/995 [==============================] - 1s 679us/step - loss: 0.0042 - val_loss: 0.0165\n",
            "Epoch 49/300\n",
            "995/995 [==============================] - 1s 684us/step - loss: 0.0047 - val_loss: 0.0190\n",
            "Epoch 50/300\n",
            "995/995 [==============================] - 1s 699us/step - loss: 0.0048 - val_loss: 0.0150\n",
            "Epoch 51/300\n",
            "995/995 [==============================] - 1s 674us/step - loss: 0.0056 - val_loss: 0.0105\n",
            "Epoch 52/300\n",
            "995/995 [==============================] - 1s 678us/step - loss: 0.0041 - val_loss: 0.0113\n",
            "Epoch 53/300\n",
            "995/995 [==============================] - 1s 687us/step - loss: 0.0041 - val_loss: 0.0090\n",
            "Epoch 54/300\n",
            "995/995 [==============================] - 1s 682us/step - loss: 0.0085 - val_loss: 0.0061\n",
            "Epoch 55/300\n",
            "995/995 [==============================] - 1s 703us/step - loss: 0.0030 - val_loss: 0.0076\n",
            "Epoch 56/300\n",
            "995/995 [==============================] - 1s 693us/step - loss: 0.0039 - val_loss: 0.0057\n",
            "Epoch 57/300\n",
            "995/995 [==============================] - 1s 679us/step - loss: 0.0021 - val_loss: 0.0058\n",
            "Epoch 58/300\n",
            "995/995 [==============================] - 1s 696us/step - loss: 0.0028 - val_loss: 0.0054\n",
            "Epoch 59/300\n",
            "995/995 [==============================] - 1s 684us/step - loss: 0.0020 - val_loss: 0.0057\n",
            "Epoch 60/300\n",
            "995/995 [==============================] - 1s 678us/step - loss: 0.0018 - val_loss: 0.0058\n",
            "Epoch 61/300\n",
            "995/995 [==============================] - 1s 670us/step - loss: 0.0018 - val_loss: 0.0057\n",
            "Epoch 62/300\n",
            "995/995 [==============================] - 1s 679us/step - loss: 0.0018 - val_loss: 0.0057\n",
            "Epoch 63/300\n",
            "995/995 [==============================] - 1s 674us/step - loss: 0.0018 - val_loss: 0.0056\n",
            "Epoch 64/300\n",
            "995/995 [==============================] - 1s 677us/step - loss: 0.0017 - val_loss: 0.0056\n",
            "Epoch 65/300\n",
            "995/995 [==============================] - 1s 687us/step - loss: 0.0017 - val_loss: 0.0056\n",
            "Epoch 66/300\n",
            "995/995 [==============================] - 1s 677us/step - loss: 0.0017 - val_loss: 0.0056\n",
            "Epoch 67/300\n",
            "995/995 [==============================] - 1s 689us/step - loss: 0.0017 - val_loss: 0.0057\n",
            "Epoch 68/300\n",
            "995/995 [==============================] - 1s 689us/step - loss: 0.0017 - val_loss: 0.0057\n",
            "Epoch 69/300\n",
            "995/995 [==============================] - 1s 683us/step - loss: 0.0017 - val_loss: 0.0057\n",
            "Epoch 70/300\n",
            "995/995 [==============================] - 1s 698us/step - loss: 0.0017 - val_loss: 0.0057\n",
            "Epoch 71/300\n",
            "995/995 [==============================] - 1s 677us/step - loss: 0.0017 - val_loss: 0.0057\n",
            "Epoch 72/300\n",
            "995/995 [==============================] - 1s 689us/step - loss: 0.0017 - val_loss: 0.0056\n",
            "Epoch 73/300\n",
            "995/995 [==============================] - 1s 686us/step - loss: 0.0017 - val_loss: 0.0056\n",
            "Epoch 74/300\n",
            "995/995 [==============================] - 1s 692us/step - loss: 0.0017 - val_loss: 0.0056\n",
            "Epoch 75/300\n",
            "995/995 [==============================] - 1s 671us/step - loss: 0.0017 - val_loss: 0.0056\n",
            "Epoch 76/300\n",
            "995/995 [==============================] - 1s 681us/step - loss: 0.0017 - val_loss: 0.0056\n",
            "Epoch 77/300\n",
            "995/995 [==============================] - 1s 677us/step - loss: 0.0017 - val_loss: 0.0056\n",
            "Epoch 78/300\n",
            "995/995 [==============================] - 1s 684us/step - loss: 0.0017 - val_loss: 0.0056\n",
            "Epoch 79/300\n",
            "995/995 [==============================] - 1s 687us/step - loss: 0.0017 - val_loss: 0.0056\n",
            "Epoch 80/300\n",
            "995/995 [==============================] - 1s 683us/step - loss: 0.0017 - val_loss: 0.0056\n",
            "Epoch 81/300\n",
            "995/995 [==============================] - 1s 671us/step - loss: 0.0017 - val_loss: 0.0056\n",
            "Epoch 82/300\n",
            "995/995 [==============================] - 1s 687us/step - loss: 0.0017 - val_loss: 0.0056\n",
            "Epoch 83/300\n",
            "995/995 [==============================] - 1s 682us/step - loss: 0.0017 - val_loss: 0.0056\n",
            "Epoch 84/300\n",
            "995/995 [==============================] - 1s 680us/step - loss: 0.0017 - val_loss: 0.0056\n",
            "Epoch 85/300\n",
            "995/995 [==============================] - 1s 701us/step - loss: 0.0017 - val_loss: 0.0056\n",
            "Epoch 86/300\n",
            "995/995 [==============================] - 1s 672us/step - loss: 0.0017 - val_loss: 0.0056\n",
            "Epoch 87/300\n",
            "995/995 [==============================] - 1s 676us/step - loss: 0.0017 - val_loss: 0.0056\n",
            "Epoch 88/300\n",
            "995/995 [==============================] - 1s 682us/step - loss: 0.0017 - val_loss: 0.0056\n",
            "Epoch 89/300\n",
            "995/995 [==============================] - 1s 684us/step - loss: 0.0017 - val_loss: 0.0055\n",
            "Epoch 90/300\n",
            "995/995 [==============================] - 1s 684us/step - loss: 0.0017 - val_loss: 0.0055\n",
            "Epoch 91/300\n",
            "995/995 [==============================] - 1s 692us/step - loss: 0.0017 - val_loss: 0.0055\n",
            "Epoch 92/300\n",
            "995/995 [==============================] - 1s 677us/step - loss: 0.0017 - val_loss: 0.0055\n",
            "Epoch 93/300\n",
            "995/995 [==============================] - 1s 684us/step - loss: 0.0017 - val_loss: 0.0055\n",
            "Epoch 94/300\n",
            "995/995 [==============================] - 1s 683us/step - loss: 0.0017 - val_loss: 0.0055\n",
            "Epoch 95/300\n",
            "995/995 [==============================] - 1s 687us/step - loss: 0.0017 - val_loss: 0.0055\n",
            "Epoch 96/300\n",
            "995/995 [==============================] - 1s 674us/step - loss: 0.0017 - val_loss: 0.0055\n",
            "Epoch 97/300\n",
            "995/995 [==============================] - 1s 691us/step - loss: 0.0017 - val_loss: 0.0055\n",
            "Epoch 98/300\n",
            "995/995 [==============================] - 1s 690us/step - loss: 0.0017 - val_loss: 0.0055\n",
            "Epoch 99/300\n",
            "995/995 [==============================] - 1s 672us/step - loss: 0.0017 - val_loss: 0.0055\n",
            "Epoch 100/300\n",
            "995/995 [==============================] - 1s 688us/step - loss: 0.0017 - val_loss: 0.0055\n",
            "Epoch 101/300\n",
            "995/995 [==============================] - 1s 700us/step - loss: 0.0017 - val_loss: 0.0055\n",
            "Epoch 102/300\n",
            "995/995 [==============================] - 1s 679us/step - loss: 0.0017 - val_loss: 0.0055\n",
            "Epoch 103/300\n",
            "995/995 [==============================] - 1s 673us/step - loss: 0.0017 - val_loss: 0.0055\n",
            "Epoch 104/300\n",
            "995/995 [==============================] - 1s 674us/step - loss: 0.0017 - val_loss: 0.0055\n",
            "Epoch 105/300\n",
            "995/995 [==============================] - 1s 679us/step - loss: 0.0016 - val_loss: 0.0055\n",
            "Epoch 106/300\n",
            "995/995 [==============================] - 1s 676us/step - loss: 0.0016 - val_loss: 0.0055\n",
            "Epoch 107/300\n",
            "995/995 [==============================] - 1s 678us/step - loss: 0.0016 - val_loss: 0.0055\n",
            "Epoch 108/300\n",
            "995/995 [==============================] - 1s 671us/step - loss: 0.0016 - val_loss: 0.0055\n",
            "Epoch 109/300\n",
            "995/995 [==============================] - 1s 675us/step - loss: 0.0016 - val_loss: 0.0055\n",
            "Epoch 110/300\n",
            "995/995 [==============================] - 1s 682us/step - loss: 0.0016 - val_loss: 0.0055\n",
            "Epoch 111/300\n",
            "995/995 [==============================] - 1s 678us/step - loss: 0.0016 - val_loss: 0.0055\n",
            "Epoch 112/300\n",
            "995/995 [==============================] - 1s 677us/step - loss: 0.0016 - val_loss: 0.0055\n",
            "Epoch 113/300\n",
            "995/995 [==============================] - 1s 696us/step - loss: 0.0016 - val_loss: 0.0055\n",
            "Epoch 114/300\n",
            "995/995 [==============================] - 1s 685us/step - loss: 0.0016 - val_loss: 0.0055\n",
            "Epoch 115/300\n",
            "995/995 [==============================] - 1s 703us/step - loss: 0.0016 - val_loss: 0.0055\n",
            "Epoch 116/300\n",
            "995/995 [==============================] - 1s 729us/step - loss: 0.0016 - val_loss: 0.0056\n",
            "Epoch 117/300\n",
            "995/995 [==============================] - 1s 691us/step - loss: 0.0016 - val_loss: 0.0056\n",
            "Epoch 118/300\n",
            "995/995 [==============================] - 1s 705us/step - loss: 0.0015 - val_loss: 0.0056\n",
            "Epoch 119/300\n",
            "995/995 [==============================] - 1s 697us/step - loss: 0.0015 - val_loss: 0.0056\n",
            "Epoch 120/300\n",
            "995/995 [==============================] - 1s 689us/step - loss: 0.0015 - val_loss: 0.0057\n",
            "Epoch 121/300\n",
            "995/995 [==============================] - 1s 705us/step - loss: 0.0015 - val_loss: 0.0057\n",
            "Epoch 122/300\n",
            "995/995 [==============================] - 1s 700us/step - loss: 0.0015 - val_loss: 0.0057\n",
            "Epoch 123/300\n",
            "995/995 [==============================] - 1s 688us/step - loss: 0.0015 - val_loss: 0.0057\n",
            "Epoch 124/300\n",
            "995/995 [==============================] - 1s 698us/step - loss: 0.0015 - val_loss: 0.0057\n",
            "Epoch 125/300\n",
            "995/995 [==============================] - 1s 690us/step - loss: 0.0015 - val_loss: 0.0058\n",
            "Epoch 126/300\n",
            "995/995 [==============================] - 1s 684us/step - loss: 0.0015 - val_loss: 0.0058\n",
            "Epoch 127/300\n",
            "995/995 [==============================] - 1s 698us/step - loss: 0.0014 - val_loss: 0.0058\n",
            "Epoch 128/300\n",
            "995/995 [==============================] - 1s 683us/step - loss: 0.0014 - val_loss: 0.0058\n",
            "Epoch 129/300\n",
            "995/995 [==============================] - 1s 683us/step - loss: 0.0014 - val_loss: 0.0058\n",
            "Epoch 130/300\n",
            "995/995 [==============================] - 1s 673us/step - loss: 0.0014 - val_loss: 0.0058\n",
            "Epoch 131/300\n",
            "995/995 [==============================] - 1s 687us/step - loss: 0.0014 - val_loss: 0.0058\n",
            "Epoch 132/300\n",
            "995/995 [==============================] - 1s 700us/step - loss: 0.0014 - val_loss: 0.0058\n",
            "Epoch 133/300\n",
            "995/995 [==============================] - 1s 694us/step - loss: 0.0014 - val_loss: 0.0058\n",
            "Epoch 134/300\n",
            "995/995 [==============================] - 1s 694us/step - loss: 0.0014 - val_loss: 0.0058\n",
            "Epoch 135/300\n",
            "995/995 [==============================] - 1s 692us/step - loss: 0.0014 - val_loss: 0.0058\n",
            "Epoch 136/300\n",
            "995/995 [==============================] - 1s 701us/step - loss: 0.0014 - val_loss: 0.0058\n",
            "Epoch 137/300\n",
            "995/995 [==============================] - 1s 708us/step - loss: 0.0014 - val_loss: 0.0058\n",
            "Epoch 138/300\n",
            "995/995 [==============================] - 1s 700us/step - loss: 0.0014 - val_loss: 0.0058\n",
            "Epoch 139/300\n",
            "995/995 [==============================] - 1s 675us/step - loss: 0.0014 - val_loss: 0.0057\n",
            "Epoch 140/300\n",
            "995/995 [==============================] - 1s 685us/step - loss: 0.0014 - val_loss: 0.0057\n",
            "Epoch 141/300\n",
            "995/995 [==============================] - 1s 672us/step - loss: 0.0014 - val_loss: 0.0057\n",
            "Epoch 142/300\n",
            "995/995 [==============================] - 1s 672us/step - loss: 0.0014 - val_loss: 0.0057\n",
            "Epoch 143/300\n",
            "995/995 [==============================] - 1s 693us/step - loss: 0.0014 - val_loss: 0.0057\n",
            "Epoch 144/300\n",
            "995/995 [==============================] - 1s 672us/step - loss: 0.0014 - val_loss: 0.0057\n",
            "Epoch 145/300\n",
            "995/995 [==============================] - 1s 687us/step - loss: 0.0014 - val_loss: 0.0057\n",
            "Epoch 146/300\n",
            "995/995 [==============================] - 1s 682us/step - loss: 0.0014 - val_loss: 0.0057\n",
            "Epoch 147/300\n",
            "995/995 [==============================] - 1s 702us/step - loss: 0.0014 - val_loss: 0.0057\n",
            "Epoch 148/300\n",
            "995/995 [==============================] - 1s 672us/step - loss: 0.0014 - val_loss: 0.0056\n",
            "Epoch 149/300\n",
            "995/995 [==============================] - 1s 690us/step - loss: 0.0014 - val_loss: 0.0056\n",
            "Epoch 150/300\n",
            "995/995 [==============================] - 1s 682us/step - loss: 0.0014 - val_loss: 0.0056\n",
            "Epoch 151/300\n",
            "995/995 [==============================] - 1s 695us/step - loss: 0.0014 - val_loss: 0.0056\n",
            "Epoch 152/300\n",
            "995/995 [==============================] - 1s 683us/step - loss: 0.0014 - val_loss: 0.0056\n",
            "Epoch 153/300\n",
            "995/995 [==============================] - 1s 683us/step - loss: 0.0014 - val_loss: 0.0056\n",
            "Epoch 154/300\n",
            "995/995 [==============================] - 1s 689us/step - loss: 0.0014 - val_loss: 0.0056\n",
            "Epoch 155/300\n",
            "995/995 [==============================] - 1s 695us/step - loss: 0.0014 - val_loss: 0.0057\n",
            "Epoch 156/300\n",
            "995/995 [==============================] - 1s 677us/step - loss: 0.0014 - val_loss: 0.0059\n",
            "Epoch 157/300\n",
            "995/995 [==============================] - 1s 703us/step - loss: 0.0015 - val_loss: 0.0065\n",
            "Epoch 158/300\n",
            "995/995 [==============================] - 1s 692us/step - loss: 0.0015 - val_loss: 0.0077\n",
            "Epoch 159/300\n",
            "995/995 [==============================] - 1s 675us/step - loss: 0.0016 - val_loss: 0.0082\n",
            "Epoch 160/300\n",
            "995/995 [==============================] - 1s 700us/step - loss: 0.0018 - val_loss: 0.0084\n",
            "Epoch 161/300\n",
            "995/995 [==============================] - 1s 690us/step - loss: 0.0018 - val_loss: 0.0085\n",
            "Epoch 162/300\n",
            "995/995 [==============================] - 1s 711us/step - loss: 0.0018 - val_loss: 0.0091\n",
            "Epoch 163/300\n",
            "995/995 [==============================] - 1s 673us/step - loss: 0.0018 - val_loss: 0.0090\n",
            "Epoch 164/300\n",
            "995/995 [==============================] - 1s 695us/step - loss: 0.0019 - val_loss: 0.0090\n",
            "Epoch 165/300\n",
            "995/995 [==============================] - 1s 695us/step - loss: 0.0021 - val_loss: 0.0094\n",
            "Epoch 166/300\n",
            "995/995 [==============================] - 1s 689us/step - loss: 0.0022 - val_loss: 0.0083\n",
            "Epoch 167/300\n",
            "995/995 [==============================] - 1s 701us/step - loss: 0.0021 - val_loss: 0.0076\n",
            "Epoch 168/300\n",
            "995/995 [==============================] - 1s 685us/step - loss: 0.0020 - val_loss: 0.0064\n",
            "Epoch 169/300\n",
            "995/995 [==============================] - 1s 667us/step - loss: 0.0016 - val_loss: 0.0058\n",
            "Epoch 170/300\n",
            "995/995 [==============================] - 1s 690us/step - loss: 0.0018 - val_loss: 0.0050\n",
            "Epoch 171/300\n",
            "995/995 [==============================] - 1s 703us/step - loss: 0.0014 - val_loss: 0.0050\n",
            "Epoch 172/300\n",
            "995/995 [==============================] - 1s 686us/step - loss: 0.0014 - val_loss: 0.0056\n",
            "Epoch 173/300\n",
            "995/995 [==============================] - 1s 678us/step - loss: 0.0013 - val_loss: 0.0052\n",
            "Epoch 174/300\n",
            "995/995 [==============================] - 1s 682us/step - loss: 0.0013 - val_loss: 0.0053\n",
            "Epoch 175/300\n",
            "995/995 [==============================] - 1s 686us/step - loss: 0.0013 - val_loss: 0.0054\n",
            "Epoch 176/300\n",
            "995/995 [==============================] - 1s 696us/step - loss: 0.0013 - val_loss: 0.0052\n",
            "Epoch 177/300\n",
            "995/995 [==============================] - 1s 705us/step - loss: 0.0013 - val_loss: 0.0052\n",
            "Epoch 178/300\n",
            "995/995 [==============================] - 1s 687us/step - loss: 0.0013 - val_loss: 0.0051\n",
            "Epoch 179/300\n",
            "995/995 [==============================] - 1s 682us/step - loss: 0.0013 - val_loss: 0.0051\n",
            "Epoch 180/300\n",
            "995/995 [==============================] - 1s 688us/step - loss: 0.0013 - val_loss: 0.0051\n",
            "Epoch 181/300\n",
            "995/995 [==============================] - 1s 692us/step - loss: 0.0013 - val_loss: 0.0051\n",
            "Epoch 182/300\n",
            "995/995 [==============================] - 1s 690us/step - loss: 0.0013 - val_loss: 0.0051\n",
            "Epoch 183/300\n",
            "995/995 [==============================] - 1s 679us/step - loss: 0.0013 - val_loss: 0.0051\n",
            "Epoch 184/300\n",
            "995/995 [==============================] - 1s 688us/step - loss: 0.0013 - val_loss: 0.0051\n",
            "Epoch 185/300\n",
            "995/995 [==============================] - 1s 686us/step - loss: 0.0013 - val_loss: 0.0050\n",
            "Epoch 186/300\n",
            "995/995 [==============================] - 1s 672us/step - loss: 0.0013 - val_loss: 0.0050\n",
            "Epoch 187/300\n",
            "995/995 [==============================] - 1s 680us/step - loss: 0.0013 - val_loss: 0.0050\n",
            "Epoch 188/300\n",
            "995/995 [==============================] - 1s 693us/step - loss: 0.0013 - val_loss: 0.0050\n",
            "Epoch 189/300\n",
            "995/995 [==============================] - 1s 678us/step - loss: 0.0013 - val_loss: 0.0050\n",
            "Epoch 190/300\n",
            "995/995 [==============================] - 1s 682us/step - loss: 0.0013 - val_loss: 0.0050\n",
            "Epoch 191/300\n",
            "995/995 [==============================] - 1s 682us/step - loss: 0.0013 - val_loss: 0.0050\n",
            "Epoch 192/300\n",
            "995/995 [==============================] - 1s 704us/step - loss: 0.0013 - val_loss: 0.0049\n",
            "Epoch 193/300\n",
            "995/995 [==============================] - 1s 684us/step - loss: 0.0013 - val_loss: 0.0049\n",
            "Epoch 194/300\n",
            "995/995 [==============================] - 1s 687us/step - loss: 0.0013 - val_loss: 0.0049\n",
            "Epoch 195/300\n",
            "995/995 [==============================] - 1s 691us/step - loss: 0.0013 - val_loss: 0.0049\n",
            "Epoch 196/300\n",
            "995/995 [==============================] - 1s 682us/step - loss: 0.0013 - val_loss: 0.0049\n",
            "Epoch 197/300\n",
            "995/995 [==============================] - 1s 693us/step - loss: 0.0013 - val_loss: 0.0049\n",
            "Epoch 198/300\n",
            "995/995 [==============================] - 1s 675us/step - loss: 0.0013 - val_loss: 0.0048\n",
            "Epoch 199/300\n",
            "995/995 [==============================] - 1s 679us/step - loss: 0.0013 - val_loss: 0.0048\n",
            "Epoch 200/300\n",
            "995/995 [==============================] - 1s 682us/step - loss: 0.0013 - val_loss: 0.0048\n",
            "Epoch 201/300\n",
            "995/995 [==============================] - 1s 674us/step - loss: 0.0013 - val_loss: 0.0048\n",
            "Epoch 202/300\n",
            "995/995 [==============================] - 1s 686us/step - loss: 0.0013 - val_loss: 0.0048\n",
            "Epoch 203/300\n",
            "995/995 [==============================] - 1s 704us/step - loss: 0.0013 - val_loss: 0.0048\n",
            "Epoch 204/300\n",
            "995/995 [==============================] - 1s 682us/step - loss: 0.0013 - val_loss: 0.0048\n",
            "Epoch 205/300\n",
            "995/995 [==============================] - 1s 694us/step - loss: 0.0013 - val_loss: 0.0047\n",
            "Epoch 206/300\n",
            "995/995 [==============================] - 1s 692us/step - loss: 0.0013 - val_loss: 0.0047\n",
            "Epoch 207/300\n",
            "995/995 [==============================] - 1s 676us/step - loss: 0.0013 - val_loss: 0.0047\n",
            "Epoch 208/300\n",
            "995/995 [==============================] - 1s 692us/step - loss: 0.0013 - val_loss: 0.0047\n",
            "Epoch 209/300\n",
            "995/995 [==============================] - 1s 677us/step - loss: 0.0013 - val_loss: 0.0047\n",
            "Epoch 210/300\n",
            "995/995 [==============================] - 1s 709us/step - loss: 0.0013 - val_loss: 0.0046\n",
            "Epoch 211/300\n",
            "995/995 [==============================] - 1s 672us/step - loss: 0.0013 - val_loss: 0.0046\n",
            "Epoch 212/300\n",
            "995/995 [==============================] - 1s 671us/step - loss: 0.0013 - val_loss: 0.0046\n",
            "Epoch 213/300\n",
            "995/995 [==============================] - 1s 695us/step - loss: 0.0013 - val_loss: 0.0046\n",
            "Epoch 214/300\n",
            "995/995 [==============================] - 1s 691us/step - loss: 0.0013 - val_loss: 0.0046\n",
            "Epoch 215/300\n",
            "995/995 [==============================] - 1s 697us/step - loss: 0.0013 - val_loss: 0.0045\n",
            "Epoch 216/300\n",
            "995/995 [==============================] - 1s 681us/step - loss: 0.0013 - val_loss: 0.0045\n",
            "Epoch 217/300\n",
            "995/995 [==============================] - 1s 679us/step - loss: 0.0013 - val_loss: 0.0045\n",
            "Epoch 218/300\n",
            "995/995 [==============================] - 1s 681us/step - loss: 0.0013 - val_loss: 0.0045\n",
            "Epoch 219/300\n",
            "995/995 [==============================] - 1s 672us/step - loss: 0.0013 - val_loss: 0.0044\n",
            "Epoch 220/300\n",
            "995/995 [==============================] - 1s 675us/step - loss: 0.0013 - val_loss: 0.0044\n",
            "Epoch 221/300\n",
            "995/995 [==============================] - 1s 686us/step - loss: 0.0013 - val_loss: 0.0044\n",
            "Epoch 222/300\n",
            "995/995 [==============================] - 1s 679us/step - loss: 0.0013 - val_loss: 0.0044\n",
            "Epoch 223/300\n",
            "995/995 [==============================] - 1s 692us/step - loss: 0.0013 - val_loss: 0.0043\n",
            "Epoch 224/300\n",
            "995/995 [==============================] - 1s 690us/step - loss: 0.0013 - val_loss: 0.0043\n",
            "Epoch 225/300\n",
            "995/995 [==============================] - 1s 680us/step - loss: 0.0013 - val_loss: 0.0043\n",
            "Epoch 226/300\n",
            "995/995 [==============================] - 1s 682us/step - loss: 0.0013 - val_loss: 0.0043\n",
            "Epoch 227/300\n",
            "995/995 [==============================] - 1s 703us/step - loss: 0.0013 - val_loss: 0.0043\n",
            "Epoch 228/300\n",
            "995/995 [==============================] - 1s 689us/step - loss: 0.0013 - val_loss: 0.0042\n",
            "Epoch 229/300\n",
            "995/995 [==============================] - 1s 688us/step - loss: 0.0013 - val_loss: 0.0042\n",
            "Epoch 230/300\n",
            "995/995 [==============================] - 1s 694us/step - loss: 0.0013 - val_loss: 0.0042\n",
            "Epoch 231/300\n",
            "995/995 [==============================] - 1s 688us/step - loss: 0.0013 - val_loss: 0.0042\n",
            "Epoch 232/300\n",
            "995/995 [==============================] - 1s 783us/step - loss: 0.0013 - val_loss: 0.0042\n",
            "Epoch 233/300\n",
            "995/995 [==============================] - 1s 686us/step - loss: 0.0013 - val_loss: 0.0044\n",
            "Epoch 234/300\n",
            "995/995 [==============================] - 1s 693us/step - loss: 0.0013 - val_loss: 0.0046\n",
            "Epoch 235/300\n",
            "995/995 [==============================] - 1s 697us/step - loss: 0.0014 - val_loss: 0.0049\n",
            "Epoch 236/300\n",
            "995/995 [==============================] - 1s 701us/step - loss: 0.0015 - val_loss: 0.0051\n",
            "Epoch 237/300\n",
            "995/995 [==============================] - 1s 697us/step - loss: 0.0015 - val_loss: 0.0053\n",
            "Epoch 238/300\n",
            "995/995 [==============================] - 1s 686us/step - loss: 0.0016 - val_loss: 0.0058\n",
            "Epoch 239/300\n",
            "995/995 [==============================] - 1s 687us/step - loss: 0.0015 - val_loss: 0.0061\n",
            "Epoch 240/300\n",
            "995/995 [==============================] - 1s 686us/step - loss: 0.0017 - val_loss: 0.0061\n",
            "Epoch 241/300\n",
            "995/995 [==============================] - 1s 668us/step - loss: 0.0017 - val_loss: 0.0064\n",
            "Epoch 242/300\n",
            "995/995 [==============================] - 1s 696us/step - loss: 0.0018 - val_loss: 0.0056\n",
            "Epoch 243/300\n",
            "995/995 [==============================] - 1s 703us/step - loss: 0.0018 - val_loss: 0.0051\n",
            "Epoch 244/300\n",
            "995/995 [==============================] - 1s 690us/step - loss: 0.0017 - val_loss: 0.0041\n",
            "Epoch 245/300\n",
            "995/995 [==============================] - 1s 690us/step - loss: 0.0015 - val_loss: 0.0036\n",
            "Epoch 246/300\n",
            "995/995 [==============================] - 1s 707us/step - loss: 0.0013 - val_loss: 0.0036\n",
            "Epoch 247/300\n",
            "995/995 [==============================] - 1s 702us/step - loss: 0.0013 - val_loss: 0.0040\n",
            "Epoch 248/300\n",
            "995/995 [==============================] - 1s 702us/step - loss: 0.0013 - val_loss: 0.0038\n",
            "Epoch 249/300\n",
            "995/995 [==============================] - 1s 685us/step - loss: 0.0012 - val_loss: 0.0040\n",
            "Epoch 250/300\n",
            "995/995 [==============================] - 1s 703us/step - loss: 0.0012 - val_loss: 0.0037\n",
            "Epoch 251/300\n",
            "995/995 [==============================] - 1s 677us/step - loss: 0.0012 - val_loss: 0.0037\n",
            "Epoch 252/300\n",
            "995/995 [==============================] - 1s 702us/step - loss: 0.0012 - val_loss: 0.0038\n",
            "Epoch 253/300\n",
            "995/995 [==============================] - 1s 700us/step - loss: 0.0012 - val_loss: 0.0036\n",
            "Epoch 254/300\n",
            "995/995 [==============================] - 1s 701us/step - loss: 0.0012 - val_loss: 0.0036\n",
            "Epoch 255/300\n",
            "995/995 [==============================] - 1s 714us/step - loss: 0.0012 - val_loss: 0.0036\n",
            "Epoch 256/300\n",
            "995/995 [==============================] - 1s 703us/step - loss: 0.0012 - val_loss: 0.0035\n",
            "Epoch 257/300\n",
            "995/995 [==============================] - 1s 692us/step - loss: 0.0012 - val_loss: 0.0035\n",
            "Epoch 258/300\n",
            "995/995 [==============================] - 1s 705us/step - loss: 0.0012 - val_loss: 0.0035\n",
            "Epoch 259/300\n",
            "995/995 [==============================] - 1s 702us/step - loss: 0.0012 - val_loss: 0.0035\n",
            "Epoch 260/300\n",
            "995/995 [==============================] - 1s 681us/step - loss: 0.0012 - val_loss: 0.0035\n",
            "Epoch 261/300\n",
            "995/995 [==============================] - 1s 682us/step - loss: 0.0012 - val_loss: 0.0034\n",
            "Epoch 262/300\n",
            "995/995 [==============================] - 1s 674us/step - loss: 0.0012 - val_loss: 0.0034\n",
            "Epoch 263/300\n",
            "995/995 [==============================] - 1s 673us/step - loss: 0.0012 - val_loss: 0.0034\n",
            "Epoch 264/300\n",
            "995/995 [==============================] - 1s 692us/step - loss: 0.0012 - val_loss: 0.0034\n",
            "Epoch 265/300\n",
            "995/995 [==============================] - 1s 698us/step - loss: 0.0012 - val_loss: 0.0033\n",
            "Epoch 266/300\n",
            "995/995 [==============================] - 1s 693us/step - loss: 0.0012 - val_loss: 0.0033\n",
            "Epoch 267/300\n",
            "995/995 [==============================] - 1s 693us/step - loss: 0.0012 - val_loss: 0.0033\n",
            "Epoch 268/300\n",
            "995/995 [==============================] - 1s 679us/step - loss: 0.0012 - val_loss: 0.0033\n",
            "Epoch 269/300\n",
            "995/995 [==============================] - 1s 701us/step - loss: 0.0012 - val_loss: 0.0033\n",
            "Epoch 270/300\n",
            "995/995 [==============================] - 1s 685us/step - loss: 0.0012 - val_loss: 0.0032\n",
            "Epoch 271/300\n",
            "995/995 [==============================] - 1s 686us/step - loss: 0.0012 - val_loss: 0.0032\n",
            "Epoch 272/300\n",
            "995/995 [==============================] - 1s 671us/step - loss: 0.0012 - val_loss: 0.0032\n",
            "Epoch 273/300\n",
            "995/995 [==============================] - 1s 681us/step - loss: 0.0012 - val_loss: 0.0032\n",
            "Epoch 274/300\n",
            "995/995 [==============================] - 1s 696us/step - loss: 0.0012 - val_loss: 0.0032\n",
            "Epoch 275/300\n",
            "995/995 [==============================] - 1s 679us/step - loss: 0.0012 - val_loss: 0.0031\n",
            "Epoch 276/300\n",
            "995/995 [==============================] - 1s 691us/step - loss: 0.0012 - val_loss: 0.0031\n",
            "Epoch 277/300\n",
            "995/995 [==============================] - 1s 677us/step - loss: 0.0012 - val_loss: 0.0031\n",
            "Epoch 278/300\n",
            "995/995 [==============================] - 1s 681us/step - loss: 0.0012 - val_loss: 0.0031\n",
            "Epoch 279/300\n",
            "995/995 [==============================] - 1s 690us/step - loss: 0.0012 - val_loss: 0.0031\n",
            "Epoch 280/300\n",
            "995/995 [==============================] - 1s 673us/step - loss: 0.0012 - val_loss: 0.0031\n",
            "Epoch 281/300\n",
            "995/995 [==============================] - 1s 685us/step - loss: 0.0012 - val_loss: 0.0030\n",
            "Epoch 282/300\n",
            "995/995 [==============================] - 1s 694us/step - loss: 0.0012 - val_loss: 0.0030\n",
            "Epoch 283/300\n",
            "995/995 [==============================] - 1s 676us/step - loss: 0.0012 - val_loss: 0.0030\n",
            "Epoch 284/300\n",
            "995/995 [==============================] - 1s 685us/step - loss: 0.0012 - val_loss: 0.0030\n",
            "Epoch 285/300\n",
            "995/995 [==============================] - 1s 682us/step - loss: 0.0012 - val_loss: 0.0030\n",
            "Epoch 286/300\n",
            "995/995 [==============================] - 1s 672us/step - loss: 0.0012 - val_loss: 0.0030\n",
            "Epoch 287/300\n",
            "995/995 [==============================] - 1s 677us/step - loss: 0.0012 - val_loss: 0.0030\n",
            "Epoch 288/300\n",
            "995/995 [==============================] - 1s 693us/step - loss: 0.0012 - val_loss: 0.0029\n",
            "Epoch 289/300\n",
            "995/995 [==============================] - 1s 682us/step - loss: 0.0012 - val_loss: 0.0029\n",
            "Epoch 290/300\n",
            "995/995 [==============================] - 1s 685us/step - loss: 0.0012 - val_loss: 0.0029\n",
            "Epoch 291/300\n",
            "995/995 [==============================] - 1s 704us/step - loss: 0.0012 - val_loss: 0.0029\n",
            "Epoch 292/300\n",
            "995/995 [==============================] - 1s 679us/step - loss: 0.0012 - val_loss: 0.0029\n",
            "Epoch 293/300\n",
            "995/995 [==============================] - 1s 673us/step - loss: 0.0012 - val_loss: 0.0029\n",
            "Epoch 294/300\n",
            "995/995 [==============================] - 1s 687us/step - loss: 0.0012 - val_loss: 0.0028\n",
            "Epoch 295/300\n",
            "995/995 [==============================] - 1s 679us/step - loss: 0.0012 - val_loss: 0.0028\n",
            "Epoch 296/300\n",
            "995/995 [==============================] - 1s 667us/step - loss: 0.0012 - val_loss: 0.0028\n",
            "Epoch 297/300\n",
            "995/995 [==============================] - 1s 685us/step - loss: 0.0012 - val_loss: 0.0028\n",
            "Epoch 298/300\n",
            "995/995 [==============================] - 1s 688us/step - loss: 0.0012 - val_loss: 0.0028\n",
            "Epoch 299/300\n",
            "995/995 [==============================] - 1s 690us/step - loss: 0.0012 - val_loss: 0.0028\n",
            "Epoch 300/300\n",
            "995/995 [==============================] - 1s 670us/step - loss: 0.0012 - val_loss: 0.0028\n"
          ],
          "name": "stdout"
        }
      ]
    },
    {
      "cell_type": "code",
      "metadata": {
        "id": "gaZHJ6snwUTA",
        "colab_type": "code",
        "outputId": "2912b83b-0fbb-4ee4-847a-147ccd024c79",
        "colab": {
          "base_uri": "https://localhost:8080/",
          "height": 286
        }
      },
      "source": [
        "plt.plot(history.history['loss'])\n",
        "plt.plot(history.history['val_loss'])"
      ],
      "execution_count": 0,
      "outputs": [
        {
          "output_type": "execute_result",
          "data": {
            "text/plain": [
              "[<matplotlib.lines.Line2D at 0x7f00c7754ba8>]"
            ]
          },
          "metadata": {
            "tags": []
          },
          "execution_count": 8
        },
        {
          "output_type": "display_data",
          "data": {
            "image/png": "[encoded data removed]",
            "text/plain": [
              "<Figure size 432x288 with 1 Axes>"
            ]
          },
          "metadata": {
            "tags": []
          }
        }
      ]
    },
    {
      "cell_type": "code",
      "metadata": {
        "id": "xk7mQhLAwXyH",
        "colab_type": "code",
        "outputId": "6413cf8a-feee-4af9-ee23-62523ab94821",
        "colab": {
          "base_uri": "https://localhost:8080/",
          "height": 136
        }
      },
      "source": [
        "X_test[0]"
      ],
      "execution_count": 0,
      "outputs": [
        {
          "output_type": "execute_result",
          "data": {
            "text/plain": [
              "array([[0.52553851],\n",
              "       [0.52908903],\n",
              "       [0.5182506 ],\n",
              "       [0.50965461],\n",
              "       [0.50274044],\n",
              "       [0.50516974],\n",
              "       [0.50834652]])"
            ]
          },
          "metadata": {
            "tags": []
          },
          "execution_count": 9
        }
      ]
    },
    {
      "cell_type": "code",
      "metadata": {
        "id": "KwKlI-BNwaX9",
        "colab_type": "code",
        "outputId": "6db9739b-0ce7-4fe8-c568-e9fdb0966f40",
        "colab": {
          "base_uri": "https://localhost:8080/",
          "height": 269
        }
      },
      "source": [
        "Xt = model.predict(X_test)\n",
        "plt.plot(scl.inverse_transform(y_test.reshape(-1,1)), label='actual')\n",
        "plt.plot(scl.inverse_transform(Xt), label='predict')\n",
        "plt.legend()\n",
        "plt.show()"
      ],
      "execution_count": 0,
      "outputs": [
        {
          "output_type": "display_data",
          "data": {
            "image/png": "[encoded data removed]",
            "text/plain": [
              "<Figure size 432x288 with 1 Axes>"
            ]
          },
          "metadata": {
            "tags": []
          }
        }
      ]
    },
    {
      "cell_type": "code",
      "metadata": {
        "id": "ZlMsZlYOwdeC",
        "colab_type": "code",
        "outputId": "31c60bba-5c0b-46fe-8228-ff3ad5e97895",
        "colab": {
          "base_uri": "https://localhost:8080/",
          "height": 34
        }
      },
      "source": [
        "act = []\n",
        "pred = []\n",
        "#for i in range(250):\n",
        "i=X_test.shape[0]-1\n",
        "Xt = model.predict(X_test[i].reshape(1,7,1))\n",
        "print('predicted:{0}, actual:{1}'.format(scl.inverse_transform(Xt),scl.inverse_transform(y_test[i].reshape(-1,1))))\n",
        "pred.append(scl.inverse_transform(Xt))\n",
        "act.append(scl.inverse_transform(y_test[i].reshape(-1,1)))"
      ],
      "execution_count": 0,
      "outputs": [
        {
          "output_type": "stream",
          "text": [
            "predicted:[[62.959366]], actual:[[64.21]]\n"
          ],
          "name": "stdout"
        }
      ]
    },
    {
      "cell_type": "code",
      "metadata": {
        "id": "agUpisYrwiG1",
        "colab_type": "code",
        "colab": {}
      },
      "source": [
        "result_df = pd.DataFrame({'pred':list(np.reshape(pred, (-1))),'act':list(np.reshape(act, (-1)))})"
      ],
      "execution_count": 0,
      "outputs": []
    },
    {
      "cell_type": "code",
      "metadata": {
        "id": "BtE3AvSQwjgW",
        "colab_type": "code",
        "outputId": "e49012fe-41b4-4e56-8c78-3b46a1d90fb0",
        "colab": {
          "base_uri": "https://localhost:8080/",
          "height": 269
        }
      },
      "source": [
        "Xt = model.predict(X_test)\n",
        "plt.plot(scl.inverse_transform(y_test.reshape(-1,1)), label='actual')\n",
        "plt.plot(scl.inverse_transform(Xt), label='predict')\n",
        "plt.legend()\n",
        "plt.show()"
      ],
      "execution_count": 0,
      "outputs": [
        {
          "output_type": "display_data",
          "data": {
            "image/png": "[encoded data removed]",
            "text/plain": [
              "<Figure size 432x288 with 1 Axes>"
            ]
          },
          "metadata": {
            "tags": []
          }
        }
      ]
    },
    {
      "cell_type": "code",
      "metadata": {
        "id": "T-tn3MrowpRP",
        "colab_type": "code",
        "outputId": "a58947eb-8d01-42d5-98f0-ee6e8604d9f0",
        "colab": {
          "base_uri": "https://localhost:8080/",
          "height": 136
        }
      },
      "source": [
        "X_test[X_test.shape[0]-1]"
      ],
      "execution_count": 0,
      "outputs": [
        {
          "output_type": "execute_result",
          "data": {
            "text/plain": [
              "array([[0.96561602],\n",
              "       [0.95440386],\n",
              "       [0.96169177],\n",
              "       [0.97869688],\n",
              "       [0.99140401],\n",
              "       [0.98822723],\n",
              "       [0.97925749]])"
            ]
          },
          "metadata": {
            "tags": []
          },
          "execution_count": 14
        }
      ]
    },
    {
      "cell_type": "code",
      "metadata": {
        "id": "0DLbIUtAwqyw",
        "colab_type": "code",
        "outputId": "85edc115-a6d7-443a-c287-83e87cabbb4e",
        "colab": {
          "base_uri": "https://localhost:8080/",
          "height": 136
        }
      },
      "source": [
        "X_test[X_test.shape[0]-2]"
      ],
      "execution_count": 0,
      "outputs": [
        {
          "output_type": "execute_result",
          "data": {
            "text/plain": [
              "array([[0.9187118 ],\n",
              "       [0.96561602],\n",
              "       [0.95440386],\n",
              "       [0.96169177],\n",
              "       [0.97869688],\n",
              "       [0.99140401],\n",
              "       [0.98822723]])"
            ]
          },
          "metadata": {
            "tags": []
          },
          "execution_count": 15
        }
      ]
    }
  ]
}